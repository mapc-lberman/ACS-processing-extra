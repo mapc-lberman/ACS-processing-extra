{
 "cells": [
  {
   "cell_type": "code",
   "execution_count": 1,
   "id": "febb2678",
   "metadata": {},
   "outputs": [],
   "source": [
    "# duplicate censustracts to muni csv after running Uni-Mapping\n",
    "# set the source and target files\n",
    "# lberman 2021-10-24\n",
    "\n",
    "import shutil\n",
    "import os\n",
    "\n",
    "src = r'csv/column_ids2_censustracts_vhighpriority.csv'\n",
    "dst = r'temp/column_ids2_censustracts_vhighpriority_dupe.csv'\n",
    "\n",
    "# copy file to temp folder\n",
    "\n",
    "try:\n",
    "    shutil.copyfile(src, dst)\n",
    "except IOError as e:\n",
    "    print(\"Unable to copy file. %s\" % e)\n",
    "except:\n",
    "    print(\"Unexpected error:\", sys.exc_info())"
   ]
  },
  {
   "cell_type": "code",
   "execution_count": 2,
   "id": "e0124cd7",
   "metadata": {},
   "outputs": [],
   "source": [
    "# find _ct and replace with _m then write to muni file\n",
    "\n",
    "f = open('temp/column_ids2_censustracts_vhighpriority_dupe.csv','r')\n",
    "filedata = f.read()\n",
    "f.close()\n",
    "\n",
    "# ! NOTE, explicitly use the trailing comma to help prevent matching occurence of \"_ct\" in any variable name\n",
    "newdata = filedata.replace(\"_ct,\",\"_m,\")\n",
    "\n",
    "f = open('temp/column_ids2_muni_vhighpriority_dupe.csv','w')\n",
    "f.write(newdata)\n",
    "f.close()"
   ]
  },
  {
   "cell_type": "code",
   "execution_count": 3,
   "id": "b091b710",
   "metadata": {},
   "outputs": [],
   "source": [
    "# move the muni file back to the csv folder\n",
    "\n",
    "src2 = r'temp/column_ids2_muni_vhighpriority_dupe.csv'\n",
    "dst2 = r'csv/column_ids2_muni_vhighpriority.csv'\n",
    "# previous line overwrites existing file directly.  use following line if you prefer to create a new file.\n",
    "# dst2 = r'csv/column_ids2_muni_vhighpriority_dupe.csv'\n",
    "\n",
    "try:\n",
    "    shutil.copyfile(src2, dst2)\n",
    "except IOError as e:\n",
    "    print(\"Unable to copy file. %s\" % e)\n",
    "except:\n",
    "    print(\"Unexpected error:\", sys.exc_info())"
   ]
  },
  {
   "cell_type": "code",
   "execution_count": 4,
   "id": "c5ddddfb",
   "metadata": {},
   "outputs": [],
   "source": [
    "# delete the temp files\n",
    "\n",
    "os.remove(\"temp/column_ids2_muni_vhighpriority_dupe.csv\")\n",
    "os.remove(\"temp/column_ids2_censustracts_vhighpriority_dupe.csv\")\n"
   ]
  },
  {
   "cell_type": "code",
   "execution_count": null,
   "id": "74832cf3",
   "metadata": {},
   "outputs": [],
   "source": []
  }
 ],
 "metadata": {
  "kernelspec": {
   "display_name": "Python 3 (ipykernel)",
   "language": "python",
   "name": "python3"
  },
  "language_info": {
   "codemirror_mode": {
    "name": "ipython",
    "version": 3
   },
   "file_extension": ".py",
   "mimetype": "text/x-python",
   "name": "python",
   "nbconvert_exporter": "python",
   "pygments_lexer": "ipython3",
   "version": "3.8.11"
  }
 },
 "nbformat": 4,
 "nbformat_minor": 5
}
