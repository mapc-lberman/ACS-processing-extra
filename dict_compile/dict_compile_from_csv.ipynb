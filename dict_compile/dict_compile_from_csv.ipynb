{
 "cells": [
  {
   "cell_type": "code",
   "execution_count": 82,
   "id": "a3e13178",
   "metadata": {},
   "outputs": [],
   "source": [
    "import jinja2\n",
    "from jinja2 import Template \n",
    "import csv\n",
    "\n",
    "table_name = \"b25117_hu_tenure_by_fuel_acs_m\"\n",
    "group = \"B25117\"\n",
    "new_dict = \"b25117_dict\"\n"
   ]
  },
  {
   "cell_type": "code",
   "execution_count": 83,
   "id": "9f4c480c",
   "metadata": {},
   "outputs": [
    {
     "data": {
      "text/plain": [
       "15333"
      ]
     },
     "execution_count": 83,
     "metadata": {},
     "output_type": "execute_result"
    }
   ],
   "source": [
    "filename = (\"dict_input/\" + new_dict + \".csv\")\n",
    "\n",
    "with open(filename, newline='') as csvfile:\n",
    "    data = list(csv.reader(csvfile))\n",
    "\n",
    "template = Template(open('dict_input/template.json').read()) \n",
    "open('dict_output/' + group + '_raw_dict.txt', 'w').write(template.render( \n",
    "header = [table_name], \n",
    "header2 = [group],\n",
    "rows = data\n",
    "))"
   ]
  },
  {
   "cell_type": "code",
   "execution_count": 23,
   "id": "9b12a7db",
   "metadata": {},
   "outputs": [
    {
     "data": {
      "text/plain": [
       "<_io.TextIOWrapper name='dict_input/in.csv' mode='r' encoding='utf8'>"
      ]
     },
     "execution_count": 23,
     "metadata": {},
     "output_type": "execute_result"
    }
   ],
   "source": [
    "# output from above needs to be EDITED \n",
    "# 1. univ and estimate values must be checked in SQL file BEFORE adding to uni-mapping dictionary, default set = 0\n",
    "# 2. set moe and percent to TRUE or FALSE as needed, default set = False\n",
    "# see also the template for writing to JSON:  dict_input/template.json\n",
    "# if there is an encoding error, try:  open(filename, encoding=\"utf8\") "
   ]
  },
  {
   "cell_type": "code",
   "execution_count": null,
   "id": "7b8c267f",
   "metadata": {},
   "outputs": [],
   "source": []
  }
 ],
 "metadata": {
  "kernelspec": {
   "display_name": "Python 3 (ipykernel)",
   "language": "python",
   "name": "python3"
  },
  "language_info": {
   "codemirror_mode": {
    "name": "ipython",
    "version": 3
   },
   "file_extension": ".py",
   "mimetype": "text/x-python",
   "name": "python",
   "nbconvert_exporter": "python",
   "pygments_lexer": "ipython3",
   "version": "3.8.11"
  }
 },
 "nbformat": 4,
 "nbformat_minor": 5
}
