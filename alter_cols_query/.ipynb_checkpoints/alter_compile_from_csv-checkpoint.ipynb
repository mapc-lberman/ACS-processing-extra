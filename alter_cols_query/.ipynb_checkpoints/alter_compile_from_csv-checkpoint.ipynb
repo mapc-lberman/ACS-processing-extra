{
 "cells": [
  {
   "cell_type": "code",
   "execution_count": 27,
   "id": "a3e13178",
   "metadata": {},
   "outputs": [],
   "source": [
    "import jinja2\n",
    "from jinja2 import Template \n",
    "import csv\n",
    "\n",
    "#set the parameters for the output file name, target TYPE, and input file containing list of columns\n",
    "table_name = \"b19001\"\n",
    "type = \"integer\"\n",
    "input = \"b19001_target_cols.csv\"\n"
   ]
  },
  {
   "cell_type": "code",
   "execution_count": 28,
   "id": "9f4c480c",
   "metadata": {},
   "outputs": [
    {
     "data": {
      "text/plain": [
       "1071"
      ]
     },
     "execution_count": 28,
     "metadata": {},
     "output_type": "execute_result"
    }
   ],
   "source": [
    "filename = (\"alter_input/\" + input)\n",
    "\n",
    "with open(filename, newline='') as csvfile:\n",
    "    data = list(csv.reader(csvfile))\n",
    "\n",
    "template = Template(open('alter_input/template.json').read()) \n",
    "open('alter_output/' + table_name + '_alter.txt', 'w').write(template.render( \n",
    "header = [table_name], \n",
    "header2 = [type],\n",
    "rows = data\n",
    "))\n",
    "\n",
    "#  note: before you run ALTER TYPE statements, remove the last line's comma before the semi-colon."
   ]
  },
  {
   "cell_type": "code",
   "execution_count": null,
   "id": "7b8c267f",
   "metadata": {},
   "outputs": [],
   "source": []
  }
 ],
 "metadata": {
  "kernelspec": {
   "display_name": "Python 3 (ipykernel)",
   "language": "python",
   "name": "python3"
  },
  "language_info": {
   "codemirror_mode": {
    "name": "ipython",
    "version": 3
   },
   "file_extension": ".py",
   "mimetype": "text/x-python",
   "name": "python",
   "nbconvert_exporter": "python",
   "pygments_lexer": "ipython3",
   "version": "3.8.11"
  }
 },
 "nbformat": 4,
 "nbformat_minor": 5
}
